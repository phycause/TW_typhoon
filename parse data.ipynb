{
 "cells": [
  {
   "cell_type": "code",
   "execution_count": 1,
   "metadata": {
    "collapsed": true
   },
   "outputs": [],
   "source": [
    "import requests\n",
    "from bs4 import BeautifulSoup\n",
    "import os\n",
    "import sys\n",
    "import time\n",
    "import json\n",
    "import random\n",
    "import re\n",
    "import json"
   ]
  },
  {
   "cell_type": "code",
   "execution_count": 2,
   "metadata": {
    "collapsed": true
   },
   "outputs": [],
   "source": [
    "payload = {'year':'all', 'model':'warning'}\n",
    "response = requests.post('http://rdc28.cwb.gov.tw/TDB/ctrl_typhoon_list/get_typhoon_list_table', data=payload )"
   ]
  },
  {
   "cell_type": "code",
   "execution_count": 3,
   "metadata": {
    "collapsed": true
   },
   "outputs": [],
   "source": [
    "#找typhoon_id\n",
    "pattern = '<a class=\"typhoon_id\" value='\n",
    "deal_response = response.text\n",
    "is_find = 1\n",
    "ty_id = []\n",
    "rp_cut = response.text.replace('\\n','').replace('  ', '').split('</tr>')\n",
    "rp_info = []\n",
    "for i in rp_cut:\n",
    "    find_del_td = 1\n",
    "    while find_del_td:\n",
    "        find_del_td = re.search(\"<td width=.*?>\", i)#刪除多餘字串\n",
    "        if find_del_td:\n",
    "            i = i.replace(find_del_td.group(), '')\n",
    "    find_del_id = re.search('<a class=\"typhoon_id\" value=.*?>', i)\n",
    "    if find_del_id:\n",
    "        i = i.replace(find_del_id.group(), '').replace('</a>','')\n",
    "    i = i.replace('</br>', '</td>')\n",
    "    rp_info.append(i.replace('<tr>', '').split('</td>'))\n",
    "ty_info_re = []\n",
    "for j in rp_info: #移除一些路徑較為特殊的颱風\n",
    "    if len(j) == 14:\n",
    "        ty_info_re.append(j[0:13])\n",
    "ty_info = []\n",
    "for i in ty_info_re:\n",
    "    ty_info_temp = []\n",
    "    for idx, j in enumerate(i):\n",
    "        if idx != 5 and idx != 6:\n",
    "            j = j.replace(' ', '')\n",
    "            ty_info_temp.append(j)\n",
    "        else:\n",
    "            ty_info_temp.append(j)\n",
    "    ty_info.append(ty_info_temp)\n",
    "\n",
    "#欄位說明\n",
    "#年份, 編號, 中文名稱, 英文名稱, 侵臺路徑分類, 開始時間, 結束時間, 近臺強度, 中心最低氣壓, 中心最大風速, 最大7級暴風半徑, 最大10級暴風半徑, 警報發布數\n"
   ]
  },
  {
   "cell_type": "code",
   "execution_count": 4,
   "metadata": {
    "collapsed": true
   },
   "outputs": [],
   "source": [
    "'''自動化生成颱風概況網站網址'''\n",
    "ty_address = []\n",
    "for i in ty_info:\n",
    "    info_address = 'http://rdc28.cwb.gov.tw/TDB/ntdb/pageControl/typhoon?year=' + i[0] + '&num=' + i[1] + '&name=' + i[3] +'&from_warning=true'\n",
    "    ty_address.append(info_address)"
   ]
  },
  {
   "cell_type": "code",
   "execution_count": 8,
   "metadata": {
    "collapsed": false,
    "scrolled": true
   },
   "outputs": [],
   "source": [
    "'''自動化下載衛星雲圖'''\n",
    "img_dics = {}\n",
    "prop_dic = {}\n",
    "ty_dic_name = ''\n",
    "prop_list = ['year', 'number', 'c_name', 'en_name', 'invapath', 'alert_start', 'alert_end', 'intensity',\n",
    "                  'lowest_pressure', 'highest_pressure', 'large_seven_radius', 'large_ten_radius','alert_count']\n",
    "for idx, i in enumerate(ty_info):\n",
    "    headers = {\"X-Requested-With\":\"XMLHttpRequest\"}\n",
    "    payload = {'typhoon_year':i[0], 'typhoon_name':i[3], 'typhoon_type':'Satellite'}\n",
    "    img_response = requests.post('http://rdc28.cwb.gov.tw/TDB/ctrl_typhoon_list/rtn_typhoon_product', data=payload, headers=headers)\n",
    "    img_str = img_response.text.replace('\\n' , '')\n",
    "    if len(img_str) != 0:\n",
    "        img_dic = json.loads(img_str) #將回送回來的資料用json儲存\n",
    "        ty_dic_name = str(i[0]) + '_' + str(i[3]) #颱風的dictionary名稱\n",
    "        img_dics.update({ty_dic_name:img_dic}) #合併所有颱風資料到一個大dic        \n",
    "        prop_dic = [{prop: value} for prop, value in zip(prop_list, i)] #把颱風的數據存到每個颱風內的第一層字典裡\n",
    "        for prop in prop_dic:\n",
    "            img_dics[ty_dic_name].update(prop)\n",
    "\n",
    "#     r = requests.get('http://rdc28.cwb.gov.tw/TDB/data/Indiv/2016/MERANTI/OBS/Satellite/Satellite_IR1_FDK.201609092350.jpg?1511463696739')\n",
    "#     with open('test.jpg', 'wb') as f:\n",
    "#         f.write(r.content)"
   ]
  },
  {
   "cell_type": "code",
   "execution_count": 31,
   "metadata": {
    "collapsed": false
   },
   "outputs": [
    {
     "name": "stdout",
     "output_type": "stream",
     "text": [
      "TALIM\n"
     ]
    }
   ],
   "source": [
    "for name in img_dics.keys(): \n",
    "    print(img_dics[name]['en_name'])\n",
    "    if not os.path.isdir(name):#建立某颱風的資料夾\n",
    "            os.mkdir(name)\n",
    "    for img_style in img_dics[name]['Satellite']['subdatatype']:\n",
    "        img_style_name = img_style['name']\n",
    "        img_path = name + '/' + img_style_name\n",
    "        if not os.path.isdir(img_path): #建立某類型的雲圖資料夾\n",
    "            os.mkdir(img_path)\n",
    "        img_sets = img_style['sets']\n",
    "        img_prefix = 'http://rdc28.cwb.gov.tw/TDB/data/Indiv/' + img_dics[name]['year'] + '/' + img_dics[name]['en_name'] + '/OBS/Satellite/' \n",
    "        for img_idx in img_sets:\n",
    "            img_address = img_prefix + img_idx[1]\n",
    "            img_r = requests.get(img_address)\n",
    "            with open(img_path + '/' + img_idx[1], 'wb') as f:\n",
    "                f.write(img_r.content)\n",
    "        \n",
    "        \n",
    "    break\n",
    "    \n",
    "#['GROUP', 'c_name', 'title', 'caption_has_datetime', 'subdatatype', 'e_name']"
   ]
  },
  {
   "cell_type": "code",
   "execution_count": 4,
   "metadata": {
    "collapsed": true
   },
   "outputs": [],
   "source": [
    "class EPcompCrawler():\n",
    "    \n",
    "    BASE_URL = 'http://www.piano-e-competition.com/'\n",
    "\n",
    "    def __init__(self, sleep_time=0.1, log=True):\n",
    "        self.sleep_time = sleep_time\n",
    "        self.log = log\n",
    "        \n",
    "    def _log_print(self, log, quite=False):\n",
    "        if not quite:\n",
    "            print(log)\n",
    "\n",
    "        if self.log:\n",
    "            with open(\"log.txt\", \"a\") as f:\n",
    "                print(log, file=f)\n",
    "def _get_header():\n",
    "# POST /TDB/ctrl_typhoon_list/get_typhoon_list_table/ HTTP/1.1\n",
    "    header = {\n",
    "'Host': 'rdc28.cwb.gov.tw',\n",
    "'Connection': 'keep-alive',\n",
    "'Content-Length': '22',\n",
    "'Accept': 'text/plain, */*; q=0.01',\n",
    "# 'Origin': 'http://rdc28.cwb.gov.tw',\n",
    "'X-Requested-With': 'XMLHttpRequest',\n",
    "'User-Agent': 'Mozilla/5.0 (Windows NT 10.0; Win64; x64) AppleWebKit/537.36 (KHTML, like Gecko) Chrome/62.0.3202.94 Safari/537.36',\n",
    "'Content-Type': 'application/x-www-form-urlencoded',\n",
    "'Accept-Encoding': 'gzip, deflate',\n",
    "'Accept-Language': 'zh-TW,zh;q=0.9,en-US;q=0.8,en;q=0.7'}\n",
    "# 'Cookie': 'PHPSESSID=vvecuo9aumnaa6hrf2fquu9lr6; ci_session=a%3A5%3A%7Bs%3A10%3A%22session_id%22%3Bs%3A32%3A%2277ea4e059cb949d97e23b99c69e8ffe7%22%3Bs%3A10%3A%22ip_address%22%3Bs%3A14%3A%22210.69.218.230%22%3Bs%3A10%3A%22user_agent%22%3Bs%3A114%3A%22Mozilla%2F5.0+%28Windows+NT+10.0%3B+Win64%3B+x64%29+AppleWebKit%2F537.36+%28KHTML%2C+like+Gecko%29+Chrome%2F62.0.3202.94+Safari%2F537.36%22%3Bs%3A13%3A%22last_activity%22%3Bi%3A1511449596%3Bs%3A9%3A%22user_data%22%3Bs%3A0%3A%22%22%3B%7Dc781ff204174d900932cc60821283866; TS01b0fe7f=0107dddfefb4158b847cf1d05483c6415c37bb75c11ff13b2154e507454d41d8f3d81a64830a94d79d1004eb315364ea5f61f284a1428ef062bc39e9607e4f675696a79089'}\n",
    "\n",
    "    return header\n"
   ]
  },
  {
   "cell_type": "code",
   "execution_count": 231,
   "metadata": {
    "collapsed": false
   },
   "outputs": [
    {
     "name": "stdout",
     "output_type": "stream",
     "text": [
      "70466\n"
     ]
    }
   ],
   "source": [
    "headers = {\"X-Requested-With\":\"XMLHttpRequest\"}\n",
    "payload = {'typhoon_year':'2013', 'typhoon_name':'TRAMI', 'typhoon_type':'Satellite'}\n",
    "img_response = requests.post('http://rdc28.cwb.gov.tw/TDB/ctrl_typhoon_list/rtn_typhoon_product', data=payload, headers=headers)\n",
    "img_str = img_response.text.replace('\\n' , '')\n",
    "print(len(img_str))"
   ]
  },
  {
   "cell_type": "code",
   "execution_count": 6,
   "metadata": {
    "collapsed": false
   },
   "outputs": [
    {
     "data": {
      "text/plain": [
       "[{'year': 1},\n",
       " {'number': 2},\n",
       " {'c_name': 3},\n",
       " {'en_name': 4},\n",
       " {'invapath': 5},\n",
       " {'alert_start': 6},\n",
       " {'alert_end': 7},\n",
       " {'intensity': 8},\n",
       " {'lowest_pressure': 9},\n",
       " {'highest_pressure': 10}]"
      ]
     },
     "execution_count": 6,
     "metadata": {},
     "output_type": "execute_result"
    }
   ],
   "source": [
    "prop_name_www = ['year', 'number', 'c_name', 'en_name', 'invapath', 'alert_start', 'alert_end', 'intensity',\n",
    "                  'lowest_pressure', 'highest_pressure']\n",
    "oxo_list = [1,2,3,4,5,6,7,8,9,10]\n",
    "[{prop: value} for prop, value in zip(prop_name_www, oxo_list)]"
   ]
  }
 ],
 "metadata": {
  "kernelspec": {
   "display_name": "Python 3",
   "language": "python",
   "name": "python3"
  },
  "language_info": {
   "codemirror_mode": {
    "name": "ipython",
    "version": 3
   },
   "file_extension": ".py",
   "mimetype": "text/x-python",
   "name": "python",
   "nbconvert_exporter": "python",
   "pygments_lexer": "ipython3",
   "version": "3.6.0"
  }
 },
 "nbformat": 4,
 "nbformat_minor": 2
}
